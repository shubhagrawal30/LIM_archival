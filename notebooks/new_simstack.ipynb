{
 "cells": [
  {
   "cell_type": "code",
   "execution_count": 1,
   "metadata": {},
   "outputs": [
    {
     "data": {
      "text/html": [
       "<style>.container { width:98% !important; }</style>"
      ],
      "text/plain": [
       "<IPython.core.display.HTML object>"
      ]
     },
     "metadata": {},
     "output_type": "display_data"
    }
   ],
   "source": [
    "# Standard modules\n",
    "import sys\n",
    "import os\n",
    "import pickle\n",
    "import numpy as np\n",
    "import pandas as pd\n",
    "import matplotlib.pyplot as plt\n",
    "import warnings\n",
    "warnings.filterwarnings(\"ignore\")\n",
    "\n",
    "sys.path.append(\"../simstack3/\")\n",
    "\n",
    "from simstackwrapper import SimstackWrapper\n",
    "from simstackresults import SimstackResults\n",
    "from simstackplots import SimstackPlots\n",
    "\n",
    "from IPython.core.display import display, HTML\n",
    "display(HTML(\"<style>.container { width:98% !important; }</style>\"))"
   ]
  },
  {
   "cell_type": "code",
   "execution_count": 2,
   "metadata": {},
   "outputs": [],
   "source": [
    "path_ini_file = os.path.join(\"./simstack_config.ini\")"
   ]
  },
  {
   "cell_type": "code",
   "execution_count": 3,
   "metadata": {},
   "outputs": [
    {
     "name": "stdout",
     "output_type": "stream",
     "text": [
      "Bootstrapping 150 iterations starting at 1\n",
      "stacked_flux_densities\n"
     ]
    },
    {
     "ename": "KeyboardInterrupt",
     "evalue": "",
     "output_type": "error",
     "traceback": [
      "\u001b[0;31m---------------------------------------------------------------------------\u001b[0m",
      "\u001b[0;31mKeyboardInterrupt\u001b[0m                         Traceback (most recent call last)",
      "Cell \u001b[0;32mIn[3], line 2\u001b[0m\n\u001b[1;32m      1\u001b[0m \u001b[38;5;66;03m# Use SimstackWrapper to read in config file and perform stack.\u001b[39;00m\n\u001b[0;32m----> 2\u001b[0m simstack_object \u001b[38;5;241m=\u001b[39m \u001b[43mSimstackWrapper\u001b[49m\u001b[43m(\u001b[49m\u001b[43mpath_ini_file\u001b[49m\u001b[43m,\u001b[49m\u001b[43m \u001b[49m\u001b[43mread_maps\u001b[49m\u001b[38;5;241;43m=\u001b[39;49m\u001b[38;5;28;43;01mTrue\u001b[39;49;00m\u001b[43m,\u001b[49m\u001b[43m \u001b[49m\u001b[43mread_catalog\u001b[49m\u001b[38;5;241;43m=\u001b[39;49m\u001b[38;5;28;43;01mTrue\u001b[39;49;00m\u001b[43m,\u001b[49m\u001b[43m \u001b[49m\u001b[43mstack_automatically\u001b[49m\u001b[38;5;241;43m=\u001b[39;49m\u001b[38;5;28;43;01mTrue\u001b[39;49;00m\u001b[43m)\u001b[49m\n",
      "File \u001b[0;32m~/Library/CloudStorage/OneDrive-PennO365/LIM_archival/notebooks/../simstack3/simstackwrapper.py:64\u001b[0m, in \u001b[0;36mSimstackWrapper.__init__\u001b[0;34m(self, param_file_path, read_maps, read_catalog, keep_catalog, stack_automatically, save_automatically, parse_automatically, overwrite_results)\u001b[0m\n\u001b[1;32m     62\u001b[0m             \u001b[38;5;28mself\u001b[39m\u001b[38;5;241m.\u001b[39mperform_simstack(bootstrap\u001b[38;5;241m=\u001b[39mboot_in)\n\u001b[1;32m     63\u001b[0m         \u001b[38;5;28;01melse\u001b[39;00m:\n\u001b[0;32m---> 64\u001b[0m             \u001b[38;5;28;43mself\u001b[39;49m\u001b[38;5;241;43m.\u001b[39;49m\u001b[43mperform_simstack\u001b[49m\u001b[43m(\u001b[49m\u001b[43mbootstrap\u001b[49m\u001b[38;5;241;43m=\u001b[39;49m\u001b[43mboot\u001b[49m\u001b[43m)\u001b[49m  \u001b[38;5;66;03m# This happens in simstackalgorithm.py\u001b[39;00m\n\u001b[1;32m     66\u001b[0m \u001b[38;5;28;01mif\u001b[39;00m \u001b[38;5;28mself\u001b[39m\u001b[38;5;241m.\u001b[39mstack_successful \u001b[38;5;129;01mand\u001b[39;00m parse_automatically:\n\u001b[1;32m     67\u001b[0m     results_object \u001b[38;5;241m=\u001b[39m SimstackResults(\u001b[38;5;28mself\u001b[39m)\n",
      "File \u001b[0;32m~/Library/CloudStorage/OneDrive-PennO365/LIM_archival/notebooks/../simstack3/simstackalgorithm.py:130\u001b[0m, in \u001b[0;36mSimstackAlgorithm.perform_simstack\u001b[0;34m(self, bootstrap, add_foreground, crop_circles, stack_all_z_at_once, write_simmaps, force_fwhm, randomize)\u001b[0m\n\u001b[1;32m    128\u001b[0m \u001b[38;5;28;01mif\u001b[39;00m add_foreground:\n\u001b[1;32m    129\u001b[0m     labels\u001b[38;5;241m.\u001b[39mappend(\u001b[38;5;124m\"\u001b[39m\u001b[38;5;124mones_foreground\u001b[39m\u001b[38;5;124m\"\u001b[39m)\n\u001b[0;32m--> 130\u001b[0m cov_ss_out \u001b[38;5;241m=\u001b[39m \u001b[38;5;28;43mself\u001b[39;49m\u001b[38;5;241;43m.\u001b[39;49m\u001b[43mstack_in_wavelengths\u001b[49m\u001b[43m(\u001b[49m\u001b[43mcatalog\u001b[49m\u001b[43m,\u001b[49m\u001b[43m \u001b[49m\u001b[43mlabels\u001b[49m\u001b[38;5;241;43m=\u001b[39;49m\u001b[43mlabels\u001b[49m\u001b[43m,\u001b[49m\u001b[43m \u001b[49m\u001b[43mdistance_interval\u001b[49m\u001b[38;5;241;43m=\u001b[39;49m\u001b[38;5;124;43m'\u001b[39;49m\u001b[38;5;124;43mall_redshifts\u001b[39;49m\u001b[38;5;124;43m'\u001b[39;49m\u001b[43m,\u001b[49m\n\u001b[1;32m    131\u001b[0m \u001b[43m                                       \u001b[49m\u001b[43mcrop_circles\u001b[49m\u001b[38;5;241;43m=\u001b[39;49m\u001b[43mcrop_circles\u001b[49m\u001b[43m,\u001b[49m\u001b[43m \u001b[49m\u001b[43madd_foreground\u001b[49m\u001b[38;5;241;43m=\u001b[39;49m\u001b[43madd_foreground\u001b[49m\u001b[43m,\u001b[49m\n\u001b[1;32m    132\u001b[0m \u001b[43m                                       \u001b[49m\u001b[43mbootstrap\u001b[49m\u001b[38;5;241;43m=\u001b[39;49m\u001b[43mbootstrap\u001b[49m\u001b[43m,\u001b[49m\u001b[43m \u001b[49m\u001b[43mforce_fwhm\u001b[49m\u001b[38;5;241;43m=\u001b[39;49m\u001b[43mforce_fwhm\u001b[49m\u001b[43m,\u001b[49m\u001b[43m \u001b[49m\u001b[43mrandomize\u001b[49m\u001b[38;5;241;43m=\u001b[39;49m\u001b[43mrandomize\u001b[49m\u001b[43m,\u001b[49m\n\u001b[1;32m    133\u001b[0m \u001b[43m                                       \u001b[49m\u001b[43mwrite_fits_layers\u001b[49m\u001b[38;5;241;43m=\u001b[39;49m\u001b[43mwrite_simmaps\u001b[49m\u001b[43m)\u001b[49m\n\u001b[1;32m    135\u001b[0m \u001b[38;5;28;01mfor\u001b[39;00m wv \u001b[38;5;129;01min\u001b[39;00m cov_ss_out:\n\u001b[1;32m    136\u001b[0m     \u001b[38;5;28;01mif\u001b[39;00m wv \u001b[38;5;129;01mnot\u001b[39;00m \u001b[38;5;129;01min\u001b[39;00m \u001b[38;5;28mself\u001b[39m\u001b[38;5;241m.\u001b[39mresults_dict[\u001b[38;5;124m'\u001b[39m\u001b[38;5;124mband_results_dict\u001b[39m\u001b[38;5;124m'\u001b[39m]:\n",
      "File \u001b[0;32m~/Library/CloudStorage/OneDrive-PennO365/LIM_archival/notebooks/../simstack3/simstackalgorithm.py:592\u001b[0m, in \u001b[0;36mSimstackAlgorithm.stack_in_wavelengths\u001b[0;34m(self, catalog, labels, distance_interval, force_fwhm, crop_circles, add_foreground, bootstrap, randomize, write_fits_layers)\u001b[0m\n\u001b[1;32m    589\u001b[0m map_dict \u001b[38;5;241m=\u001b[39m \u001b[38;5;28mself\u001b[39m\u001b[38;5;241m.\u001b[39mmaps_dict[wv]\u001b[38;5;241m.\u001b[39mcopy()\n\u001b[1;32m    591\u001b[0m \u001b[38;5;66;03m# Construct cube and labels for regression via lmfit.\u001b[39;00m\n\u001b[0;32m--> 592\u001b[0m cube_dict \u001b[38;5;241m=\u001b[39m \u001b[38;5;28;43mself\u001b[39;49m\u001b[38;5;241;43m.\u001b[39;49m\u001b[43mbuild_cube\u001b[49m\u001b[43m(\u001b[49m\u001b[43mmap_dict\u001b[49m\u001b[43m,\u001b[49m\u001b[43m \u001b[49m\u001b[43mcatalog\u001b[49m\u001b[38;5;241;43m.\u001b[39;49m\u001b[43mcopy\u001b[49m\u001b[43m(\u001b[49m\u001b[43m)\u001b[49m\u001b[43m,\u001b[49m\u001b[43m \u001b[49m\u001b[43mlabels\u001b[49m\u001b[38;5;241;43m=\u001b[39;49m\u001b[43mlabels\u001b[49m\u001b[43m,\u001b[49m\u001b[43m \u001b[49m\u001b[43mcrop_circles\u001b[49m\u001b[38;5;241;43m=\u001b[39;49m\u001b[43mcrop_circles\u001b[49m\u001b[43m,\u001b[49m\n\u001b[1;32m    593\u001b[0m \u001b[43m                            \u001b[49m\u001b[43madd_foreground\u001b[49m\u001b[38;5;241;43m=\u001b[39;49m\u001b[43madd_foreground\u001b[49m\u001b[43m,\u001b[49m\u001b[43m \u001b[49m\u001b[43mbootstrap\u001b[49m\u001b[38;5;241;43m=\u001b[39;49m\u001b[43mbootstrap\u001b[49m\u001b[43m,\u001b[49m\u001b[43m \u001b[49m\u001b[43mrandomize\u001b[49m\u001b[38;5;241;43m=\u001b[39;49m\u001b[43mrandomize\u001b[49m\u001b[43m,\u001b[49m\n\u001b[1;32m    594\u001b[0m \u001b[43m                            \u001b[49m\u001b[43mforce_fwhm\u001b[49m\u001b[38;5;241;43m=\u001b[39;49m\u001b[43mforce_fwhm\u001b[49m\u001b[43m,\u001b[49m\u001b[43m \u001b[49m\u001b[43mwrite_fits_layers\u001b[49m\u001b[38;5;241;43m=\u001b[39;49m\u001b[43mwrite_fits_layers\u001b[49m\u001b[43m)\u001b[49m\n\u001b[1;32m    595\u001b[0m cube_labels \u001b[38;5;241m=\u001b[39m cube_dict[\u001b[38;5;124m'\u001b[39m\u001b[38;5;124mlabels\u001b[39m\u001b[38;5;124m'\u001b[39m]\n\u001b[1;32m    596\u001b[0m \u001b[38;5;28mprint\u001b[39m(\u001b[38;5;124m\"\u001b[39m\u001b[38;5;124mSimultaneously Stacking \u001b[39m\u001b[38;5;132;01m{}\u001b[39;00m\u001b[38;5;124m Layers in \u001b[39m\u001b[38;5;132;01m{}\u001b[39;00m\u001b[38;5;124m\"\u001b[39m\u001b[38;5;241m.\u001b[39mformat(\u001b[38;5;28mlen\u001b[39m(cube_labels), wv))\n",
      "File \u001b[0;32m~/Library/CloudStorage/OneDrive-PennO365/LIM_archival/notebooks/../simstack3/simstackalgorithm.py:408\u001b[0m, in \u001b[0;36mSimstackAlgorithm.build_cube\u001b[0;34m(self, map_dict, catalog, labels, add_foreground, crop_circles, bootstrap, force_fwhm, randomize, write_fits_layers)\u001b[0m\n\u001b[1;32m    406\u001b[0m                     ilayer \u001b[38;5;241m+\u001b[39m\u001b[38;5;241m=\u001b[39m \u001b[38;5;241m1\u001b[39m\n\u001b[1;32m    407\u001b[0m                 \u001b[38;5;28;01melse\u001b[39;00m:\n\u001b[0;32m--> 408\u001b[0m                     layers \u001b[38;5;241m=\u001b[39m \u001b[43mnp\u001b[49m\u001b[38;5;241;43m.\u001b[39;49m\u001b[43mdelete\u001b[49m\u001b[43m(\u001b[49m\u001b[43mlayers\u001b[49m\u001b[43m,\u001b[49m\u001b[43m \u001b[49m\u001b[43milayer\u001b[49m\u001b[43m,\u001b[49m\u001b[43m \u001b[49m\u001b[38;5;241;43m0\u001b[39;49m\u001b[43m)\u001b[49m\n\u001b[1;32m    409\u001b[0m                 ilabel \u001b[38;5;241m+\u001b[39m\u001b[38;5;241m=\u001b[39m \u001b[38;5;241m1\u001b[39m\n\u001b[1;32m    410\u001b[0m \u001b[38;5;28;01melse\u001b[39;00m:\n",
      "File \u001b[0;32m~/miniconda3/envs/lim/lib/python3.9/site-packages/numpy/lib/function_base.py:5342\u001b[0m, in \u001b[0;36mdelete\u001b[0;34m(arr, obj, axis)\u001b[0m\n\u001b[1;32m   5340\u001b[0m     slobj2 \u001b[38;5;241m=\u001b[39m [\u001b[38;5;28mslice\u001b[39m(\u001b[38;5;28;01mNone\u001b[39;00m)]\u001b[38;5;241m*\u001b[39mndim\n\u001b[1;32m   5341\u001b[0m     slobj2[axis] \u001b[38;5;241m=\u001b[39m \u001b[38;5;28mslice\u001b[39m(obj\u001b[38;5;241m+\u001b[39m\u001b[38;5;241m1\u001b[39m, \u001b[38;5;28;01mNone\u001b[39;00m)\n\u001b[0;32m-> 5342\u001b[0m     \u001b[43mnew\u001b[49m\u001b[43m[\u001b[49m\u001b[38;5;28;43mtuple\u001b[39;49m\u001b[43m(\u001b[49m\u001b[43mslobj\u001b[49m\u001b[43m)\u001b[49m\u001b[43m]\u001b[49m \u001b[38;5;241m=\u001b[39m arr[\u001b[38;5;28mtuple\u001b[39m(slobj2)]\n\u001b[1;32m   5343\u001b[0m \u001b[38;5;28;01melse\u001b[39;00m:\n\u001b[1;32m   5344\u001b[0m     \u001b[38;5;28;01mif\u001b[39;00m obj\u001b[38;5;241m.\u001b[39mdtype \u001b[38;5;241m==\u001b[39m \u001b[38;5;28mbool\u001b[39m:\n",
      "\u001b[0;31mKeyboardInterrupt\u001b[0m: "
     ]
    }
   ],
   "source": [
    "# Use SimstackWrapper to read in config file and perform stack.\n",
    "simstack_object = SimstackWrapper(path_ini_file, read_maps=True, read_catalog=True, stack_automatically=True)"
   ]
  },
  {
   "cell_type": "code",
   "execution_count": null,
   "metadata": {},
   "outputs": [],
   "source": []
  }
 ],
 "metadata": {
  "kernelspec": {
   "display_name": "lim",
   "language": "python",
   "name": "python3"
  },
  "language_info": {
   "codemirror_mode": {
    "name": "ipython",
    "version": 3
   },
   "file_extension": ".py",
   "mimetype": "text/x-python",
   "name": "python",
   "nbconvert_exporter": "python",
   "pygments_lexer": "ipython3",
   "version": "3.9.18"
  }
 },
 "nbformat": 4,
 "nbformat_minor": 2
}
