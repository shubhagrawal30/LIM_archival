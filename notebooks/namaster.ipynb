{
 "cells": [
  {
   "cell_type": "code",
   "execution_count": null,
   "metadata": {},
   "outputs": [],
   "source": [
    "import numpy as np\n",
    "from astropy.io import fits\n",
    "import os, sys\n",
    "import astropy.units as u\n",
    "import healpy as hp\n",
    "from matplotlib import pyplot as plt\n",
    "import pynamaster as nmt\n",
    "from astropy.coordinates import SkyCoord"
   ]
  }
 ],
 "metadata": {
  "kernelspec": {
   "display_name": "lim",
   "language": "python",
   "name": "python3"
  },
  "language_info": {
   "name": "python",
   "version": "3.9.18"
  }
 },
 "nbformat": 4,
 "nbformat_minor": 2
}
